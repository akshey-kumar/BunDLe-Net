{
 "cells": [
  {
   "cell_type": "code",
   "execution_count": 2,
   "id": "e80ccde7",
   "metadata": {},
   "outputs": [
    {
     "name": "stderr",
     "output_type": "stream",
     "text": [
      "2024-03-25 13:14:20.526846: E external/local_xla/xla/stream_executor/cuda/cuda_dnn.cc:9261] Unable to register cuDNN factory: Attempting to register factory for plugin cuDNN when one has already been registered\n",
      "2024-03-25 13:14:20.526869: E external/local_xla/xla/stream_executor/cuda/cuda_fft.cc:607] Unable to register cuFFT factory: Attempting to register factory for plugin cuFFT when one has already been registered\n",
      "2024-03-25 13:14:20.527652: E external/local_xla/xla/stream_executor/cuda/cuda_blas.cc:1515] Unable to register cuBLAS factory: Attempting to register factory for plugin cuBLAS when one has already been registered\n",
      "2024-03-25 13:14:20.532138: I tensorflow/core/platform/cpu_feature_guard.cc:182] This TensorFlow binary is optimized to use available CPU instructions in performance-critical operations.\n",
      "To enable the following instructions: AVX2 FMA, in other operations, rebuild TensorFlow with the appropriate compiler flags.\n",
      "2024-03-25 13:14:21.155729: W tensorflow/compiler/tf2tensorrt/utils/py_utils.cc:38] TF-TRT Warning: Could not find TensorRT\n"
     ]
    }
   ],
   "source": [
    "import scipy\n",
    "import numpy as np\n",
    "import os\n",
    "os.chdir('../..')\n",
    "from functions import Database\n",
    "\n",
    "os.getcwd()\n",
    "\n",
    "class DatabaseStimuli(Database):\n",
    "    \"\"\"\n",
    "    Loading neuronal, behavioural and stimuli data from matlab files \n",
    "    Inherits from Database class (without stimulus)\n",
    "\n",
    "    The raw data was curated according to the following correspondence:\n",
    "    data[0] is name\n",
    "    data[1] is fps\n",
    "    data[2] is Bleachcorrected_traces\n",
    "    data[3] is deltaFOverF\n",
    "    data[4] is deltaFOverF_bc\n",
    "    data[5] is deriv_traces\n",
    "    data[6] is zscored_traces\n",
    "    data[7] is neuron names\n",
    "    data[8] is 0,1,2 Response\n",
    "    data[9] is 11, 21 Stimulus\n",
    "    data[10] is 1,2,3,4 behaviour\n",
    "\n",
    "    \"\"\"\n",
    "    \n",
    "    def __init__(self, data_set_no : int):\n",
    "\n",
    "        self.data_set_no = data_set_no\n",
    "        data_dict = scipy.io.loadmat('data/raw/stimuli_data_jalaja/Alldataset_data_extracted.mat')\n",
    "        data  = data_dict['All_neuron_data'][0, self.data_set_no]\n",
    "        \n",
    "        self.dataset_name = data[0][0]\n",
    "        self.fps = data[1].flatten()[0]\n",
    "        self.neuron_traces = data[3].T \n",
    "        self.response = data[8].flatten()\n",
    "        self.stimulus = data[9].flatten()\n",
    "        self.states = data[10].flatten()\n",
    "        self.response_names = {0:'miss', 1:'hit', 2:'NaN (excluded trials)'}\n",
    "        self.stimulus_names = {11:'11% oxygen', 21:'21% oxygen'}\n",
    "        self.state_names = {1:'forward', 2:'reverse', 3:'sustained reversal', 4:'turn'}\n",
    "\n",
    "        nn = data[7]       \n",
    "        neuron_names=[] \n",
    "        for i in nn.flat:\n",
    "            if i[0][0].size>0:\n",
    "                neuron_names.append(i[0][0][0])\n",
    "            else:\n",
    "                neuron_names.append('0')\n",
    "        self.neuron_names = np.array(neuron_names)\n"
   ]
  },
  {
   "cell_type": "code",
   "execution_count": 3,
   "id": "0fb00214",
   "metadata": {
    "scrolled": false
   },
   "outputs": [
    {
     "name": "stdout",
     "output_type": "stream",
     "text": [
      "13-10-21_w2_H_wbstructforPCA.mat.mat\n",
      "3.270899470899471\n",
      "(6182,)\n",
      "(6182,)\n",
      "(6182,)\n",
      "(65,)\n",
      "(65, 6182)\n",
      "13-10-21_w3_H_wbstructforPCA.mat.mat\n",
      "3.27037037037037\n",
      "(6181,)\n",
      "(6181,)\n",
      "(6181,)\n",
      "(66,)\n",
      "(66, 6181)\n",
      "13-10-21_w4_H_wbstructforPCA.mat.mat\n",
      "3.270899470899471\n",
      "(6182,)\n",
      "(6182,)\n",
      "(6182,)\n",
      "(63,)\n",
      "(63, 6182)\n",
      "5-2-22_w5_H_wbstructforPCA.mat.mat\n",
      "3.270899470899471\n",
      "(6182,)\n",
      "(6182,)\n",
      "(6182,)\n",
      "(76,)\n",
      "(76, 6182)\n",
      "5-2-22_w7_H_wbstructforPCA.mat.mat\n",
      "3.270899470899471\n",
      "(6182,)\n",
      "(6182,)\n",
      "(6182,)\n",
      "(135,)\n",
      "(135, 6182)\n",
      "5-2-22_w9_H_wbstructforPCA.mat.mat\n",
      "3.270899470899471\n",
      "(6182,)\n",
      "(6182,)\n",
      "(6182,)\n",
      "(73,)\n",
      "(73, 6182)\n",
      "9-10-21_w1_H_wbstructforPCA.mat.mat\n",
      "3.27037037037037\n",
      "(6181,)\n",
      "(6181,)\n",
      "(6181,)\n",
      "(68,)\n",
      "(68, 6181)\n",
      "9-10-21_w3_H_wbstructforPCA.mat.mat\n",
      "3.27037037037037\n",
      "(6181,)\n",
      "(6181,)\n",
      "(6181,)\n",
      "(63,)\n",
      "(63, 6181)\n"
     ]
    }
   ],
   "source": [
    "from data_loading import DatabaseStimuli\n",
    "import numpy as np\n",
    "\n",
    "    \n",
    "b_neurons = [\n",
    "    'AVAR',\n",
    "    'AVAL'\n",
    "]\n",
    "\n",
    "data = DatabaseStimuli(data_set_no=1)\n",
    "\n",
    "for i in range(8):\n",
    "    data = DatabaseStimuli(data_set_no=i)\n",
    "    print(data.dataset_name)\n",
    "    print(data.fps)\n",
    "    print(data.stimulus.shape)\n",
    "    print(data.response.shape)\n",
    "    print(data.states.shape)\n",
    "    print(data.neuron_names.shape)\n",
    "    print(data.neuron_traces.shape)\n",
    "\n"
   ]
  },
  {
   "cell_type": "code",
   "execution_count": 2,
   "id": "800480b8",
   "metadata": {},
   "outputs": [
    {
     "data": {
      "text/plain": [
       "array([1, 1, 1, 1, 1, 1, 1, 1, 1, 2, 3, 2, 3, 3, 2, 1, 2, 1, 2, 1, 2, 2,\n",
       "       2, 2, 3, 3, 2, 3, 2, 2, 1, 3, 3, 3, 3, 3, 2, 3, 3, 2, 1, 3, 1, 3,\n",
       "       3, 3, 1, 1, 1, 2, 2, 3, 3, 3, 2, 2, 3, 3, 3, 3, 3, 3])"
      ]
     },
     "execution_count": 2,
     "metadata": {},
     "output_type": "execute_result"
    }
   ],
   "source": [
    "data.categorise_neurons()"
   ]
  },
  {
   "cell_type": "code",
   "execution_count": null,
   "id": "eb7876d6",
   "metadata": {},
   "outputs": [],
   "source": []
  }
 ],
 "metadata": {
  "kernelspec": {
   "display_name": "bundle_env",
   "language": "python",
   "name": "bundle_env"
  },
  "language_info": {
   "codemirror_mode": {
    "name": "ipython",
    "version": 3
   },
   "file_extension": ".py",
   "mimetype": "text/x-python",
   "name": "python",
   "nbconvert_exporter": "python",
   "pygments_lexer": "ipython3",
   "version": "3.9.12"
  }
 },
 "nbformat": 4,
 "nbformat_minor": 5
}
